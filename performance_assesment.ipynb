{
 "cells": [
  {
   "cell_type": "code",
   "execution_count": 1,
   "metadata": {},
   "outputs": [],
   "source": [
    "\"\"\"\n",
    "@author David Yu\n",
    "\"\"\"\n",
    "from abc import ABC\n",
    "import event\n",
    "from queue import Queue\n",
    "import datetime\n",
    "import copy\n",
    "import data_handler\n",
    "import strategy as st\n",
    "import time\n",
    "import portfolio\n",
    "import order_processing\n",
    "%load_ext snakeviz"
   ]
  },
  {
   "cell_type": "code",
   "execution_count": 7,
   "metadata": {},
   "outputs": [],
   "source": [
    "data = data_handler.EngineCSV()\n",
    "strategy = st.SimpleDonChain(window_size = 5, window_size_hl = 5)\n",
    "port = portfolio.SimplePortfolio()\n",
    "broker = order_processing.OrderWithFrition(0,0.5)\n",
    "\n",
    "list_of_events = []\n",
    "list_of_signals = []\n",
    "list_of_orders = []\n",
    "list_of_filled = []\n",
    " \n"
   ]
  },
  {
   "cell_type": "code",
   "execution_count": 8,
   "metadata": {},
   "outputs": [
    {
     "name": "stdout",
     "output_type": "stream",
     "text": [
      " \n",
      "*** Profile stats marshalled to file 'C:\\\\Users\\\\Jesse\\\\AppData\\\\Local\\\\Temp\\\\tmpst8a5sya'. \n",
      "Embedding SnakeViz in this document...\n"
     ]
    },
    {
     "data": {
      "text/html": [
       "\n",
       "<iframe id='snakeviz-2ab479f0-c1bb-11ea-8463-e0d55e67ebf2' frameborder=0 seamless width='100%' height='1000'></iframe>\n",
       "<script>document.getElementById(\"snakeviz-2ab479f0-c1bb-11ea-8463-e0d55e67ebf2\").setAttribute(\"src\", \"http://\" + document.location.hostname + \":8080/snakeviz/C%3A%5CUsers%5CJesse%5CAppData%5CLocal%5CTemp%5Ctmpst8a5sya\")</script>\n"
      ],
      "text/plain": [
       "<IPython.core.display.HTML object>"
      ]
     },
     "metadata": {},
     "output_type": "display_data"
    }
   ],
   "source": [
    "%%snakeviz\n",
    "\n",
    "for i in range(5):\n",
    "    list_of_events.append(data.get_event())\n",
    "    port.process_market(list_of_events[i])\n",
    "    list_of_filled.append(broker.perform_trading(list_of_events[i]))\n",
    "    port.process_filled(list_of_filled[i])\n",
    "    strategy.load_data(list_of_events[i])\n",
    "    list_of_signals.append(strategy.get_event())\n",
    "    list_of_orders.append(port.process_signal(list_of_signals[i]))\n",
    "    broker.process_order(list_of_orders[i])\n",
    "\n"
   ]
  },
  {
   "cell_type": "code",
   "execution_count": 17,
   "metadata": {},
   "outputs": [],
   "source": [
    "data = data_handler.EngineCSV()\n",
    "strategy = st.SelectiveDonChain(window_size = 5, window_size_hl = 5, ttrend_window = 5, selection_pool = 5, selection_window = 5)\n",
    "list_of_events = []\n",
    "list_of_signals = []\n",
    "list_of_orders = []\n",
    "\n",
    "\n"
   ]
  },
  {
   "cell_type": "code",
   "execution_count": 18,
   "metadata": {},
   "outputs": [
    {
     "name": "stdout",
     "output_type": "stream",
     "text": [
      " \n",
      "*** Profile stats marshalled to file 'C:\\\\Users\\\\Jesse\\\\AppData\\\\Local\\\\Temp\\\\tmp3yx7sy3i'. \n",
      "Embedding SnakeViz in this document...\n"
     ]
    },
    {
     "data": {
      "text/html": [
       "\n",
       "<iframe id='snakeviz-0c7831be-c1bf-11ea-b1d7-e0d55e67ebf2' frameborder=0 seamless width='100%' height='1000'></iframe>\n",
       "<script>document.getElementById(\"snakeviz-0c7831be-c1bf-11ea-b1d7-e0d55e67ebf2\").setAttribute(\"src\", \"http://\" + document.location.hostname + \":8080/snakeviz/C%3A%5CUsers%5CJesse%5CAppData%5CLocal%5CTemp%5Ctmp3yx7sy3i\")</script>\n"
      ],
      "text/plain": [
       "<IPython.core.display.HTML object>"
      ]
     },
     "metadata": {},
     "output_type": "display_data"
    }
   ],
   "source": [
    "%%snakeviz\n",
    "for i in range(50):\n",
    "    list_of_events.append(data.get_event())\n",
    "    strategy.load_data(list_of_events[i])\n",
    "    list_of_signals.append(strategy.get_event())"
   ]
  },
  {
   "cell_type": "code",
   "execution_count": 19,
   "metadata": {},
   "outputs": [],
   "source": [
    "data = data_handler.EngineCSV()\n",
    "strategy = st.SimpleHedge(5,3)\n",
    "list_of_events = []\n",
    "list_of_signals = []\n",
    "list_of_orders = []"
   ]
  },
  {
   "cell_type": "code",
   "execution_count": 20,
   "metadata": {},
   "outputs": [
    {
     "name": "stdout",
     "output_type": "stream",
     "text": [
      " \n",
      "*** Profile stats marshalled to file 'C:\\\\Users\\\\Jesse\\\\AppData\\\\Local\\\\Temp\\\\tmpe702ykxw'. \n",
      "Embedding SnakeViz in this document...\n"
     ]
    },
    {
     "data": {
      "text/html": [
       "\n",
       "<iframe id='snakeviz-1a5f18a8-c1bf-11ea-8a7b-e0d55e67ebf2' frameborder=0 seamless width='100%' height='1000'></iframe>\n",
       "<script>document.getElementById(\"snakeviz-1a5f18a8-c1bf-11ea-8a7b-e0d55e67ebf2\").setAttribute(\"src\", \"http://\" + document.location.hostname + \":8080/snakeviz/C%3A%5CUsers%5CJesse%5CAppData%5CLocal%5CTemp%5Ctmpe702ykxw\")</script>\n"
      ],
      "text/plain": [
       "<IPython.core.display.HTML object>"
      ]
     },
     "metadata": {},
     "output_type": "display_data"
    }
   ],
   "source": [
    "%%snakeviz\n",
    "for i in range(50):\n",
    "    \n",
    "    list_of_events.append(data.get_event())\n",
    "    strategy.load_data(list_of_events[i])\n",
    "    list_of_signals.append(strategy.get_event())"
   ]
  },
  {
   "cell_type": "code",
   "execution_count": 21,
   "metadata": {},
   "outputs": [],
   "source": [
    "data = data_handler.EngineCSV()\n",
    "strategy = st.SimpleDonChain(window_size = 5, window_size_hl = 5)\n",
    "list_of_events = []\n",
    "list_of_signals = []\n",
    "list_of_orders = []\n",
    "\n"
   ]
  },
  {
   "cell_type": "code",
   "execution_count": 22,
   "metadata": {},
   "outputs": [
    {
     "name": "stdout",
     "output_type": "stream",
     "text": [
      " \n",
      "*** Profile stats marshalled to file 'C:\\\\Users\\\\Jesse\\\\AppData\\\\Local\\\\Temp\\\\tmpu13fiiw8'. \n",
      "Embedding SnakeViz in this document...\n"
     ]
    },
    {
     "data": {
      "text/html": [
       "\n",
       "<iframe id='snakeviz-2250c4f0-c1bf-11ea-9f7e-e0d55e67ebf2' frameborder=0 seamless width='100%' height='1000'></iframe>\n",
       "<script>document.getElementById(\"snakeviz-2250c4f0-c1bf-11ea-9f7e-e0d55e67ebf2\").setAttribute(\"src\", \"http://\" + document.location.hostname + \":8080/snakeviz/C%3A%5CUsers%5CJesse%5CAppData%5CLocal%5CTemp%5Ctmpu13fiiw8\")</script>\n"
      ],
      "text/plain": [
       "<IPython.core.display.HTML object>"
      ]
     },
     "metadata": {},
     "output_type": "display_data"
    }
   ],
   "source": [
    "%%snakeviz\n",
    "for i in range(50):\n",
    "    list_of_events.append(data.get_event())\n",
    "    strategy.load_data(list_of_events[i])\n",
    "    list_of_signals.append(strategy.get_event())"
   ]
  },
  {
   "cell_type": "code",
   "execution_count": null,
   "metadata": {},
   "outputs": [],
   "source": []
  }
 ],
 "metadata": {
  "kernelspec": {
   "display_name": "Python 3.7.1 64-bit",
   "language": "python",
   "name": "python37164bit170134b229244b9f93be482194231488"
  },
  "language_info": {
   "codemirror_mode": {
    "name": "ipython",
    "version": 3
   },
   "file_extension": ".py",
   "mimetype": "text/x-python",
   "name": "python",
   "nbconvert_exporter": "python",
   "pygments_lexer": "ipython3",
   "version": "3.7.1"
  }
 },
 "nbformat": 4,
 "nbformat_minor": 4
}
